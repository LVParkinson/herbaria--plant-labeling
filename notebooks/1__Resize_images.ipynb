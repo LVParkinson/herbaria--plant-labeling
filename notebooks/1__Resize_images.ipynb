{
 "cells": [
  {
   "cell_type": "markdown",
   "metadata": {},
   "source": [
    "# image and annotation processing\n",
    "This notebook is part of the project _Automated plant stage labelling of herbarium samples in the family *Brassicaceae*_ made at [Propulsion Academy Zurich](https://propulsion.academy/?gclid=Cj0KCQiAwf39BRCCARIsALXWETyIhnHT7bA3VYXXOC415brejc6qYXnX7kEpqJmmJ5d5kAcYgoiLhI4aAmPxEALw_wcB) in collaboration with [ETH Library](https://library.ethz.ch/en/).\n",
    "\n",
    "This notebook allows to preprocess images and annotations to prepare them for model training using mask_RCNN. It includes the following steps:\n",
    "\n",
    "- resize images\n",
    "- scale annotations appropriately\n",
    "- remove segments that have too few points\n",
    "\n",
    "The same results can be obtained by launching the `pre-process_images.py` script from command line. see README for more details"
   ]
  },
  {
   "cell_type": "code",
   "execution_count": 1,
   "metadata": {},
   "outputs": [],
   "source": [
    "import os\n",
    "import json\n",
    "import shutil\n",
    "import numpy as np\n",
    "from PIL import Image\n",
    "\n",
    "import matplotlib.pyplot as plt\n"
   ]
  },
  {
   "cell_type": "markdown",
   "metadata": {},
   "source": [
    "## Data and settings\n",
    "set the folder paths below to load annotations and images"
   ]
  },
  {
   "cell_type": "code",
   "execution_count": 1,
   "metadata": {},
   "outputs": [
    {
     "ename": "NameError",
     "evalue": "name 'os' is not defined",
     "output_type": "error",
     "traceback": [
      "\u001b[0;31m---------------------------------------------------------------------------\u001b[0m",
      "\u001b[0;31mNameError\u001b[0m                                 Traceback (most recent call last)",
      "\u001b[0;32m<ipython-input-1-2edbdc78ed1e>\u001b[0m in \u001b[0;36m<module>\u001b[0;34m\u001b[0m\n\u001b[1;32m      1\u001b[0m \u001b[0;31m# set folder paths\u001b[0m\u001b[0;34m\u001b[0m\u001b[0;34m\u001b[0m\u001b[0;34m\u001b[0m\u001b[0m\n\u001b[0;32m----> 2\u001b[0;31m \u001b[0morig_anno_fldr_path\u001b[0m \u001b[0;34m=\u001b[0m \u001b[0mos\u001b[0m\u001b[0;34m.\u001b[0m\u001b[0mpath\u001b[0m\u001b[0;34m.\u001b[0m\u001b[0mjoin\u001b[0m\u001b[0;34m(\u001b[0m\u001b[0;34m\"..\"\u001b[0m\u001b[0;34m,\u001b[0m\u001b[0;34m\"data\"\u001b[0m\u001b[0;34m,\u001b[0m\u001b[0;34m\"raw\"\u001b[0m\u001b[0;34m,\u001b[0m \u001b[0;34m\"StreptanthusAnnotatedHerbariumSheets\"\u001b[0m\u001b[0;34m,\u001b[0m\u001b[0;34m\"Strep\"\u001b[0m\u001b[0;34m)\u001b[0m\u001b[0;34m\u001b[0m\u001b[0;34m\u001b[0m\u001b[0m\n\u001b[0m\u001b[1;32m      3\u001b[0m \u001b[0mimg_src_fldr_path\u001b[0m \u001b[0;34m=\u001b[0m \u001b[0mos\u001b[0m\u001b[0;34m.\u001b[0m\u001b[0mpath\u001b[0m\u001b[0;34m.\u001b[0m\u001b[0mjoin\u001b[0m\u001b[0;34m(\u001b[0m\u001b[0;34m'..'\u001b[0m\u001b[0;34m,\u001b[0m\u001b[0;34m'data'\u001b[0m\u001b[0;34m,\u001b[0m\u001b[0;34m'raw'\u001b[0m\u001b[0;34m,\u001b[0m\u001b[0;34m'images'\u001b[0m\u001b[0;34m,\u001b[0m\u001b[0;34m'CAS_images'\u001b[0m\u001b[0;34m)\u001b[0m\u001b[0;34m\u001b[0m\u001b[0;34m\u001b[0m\u001b[0m\n\u001b[1;32m      4\u001b[0m \u001b[0mimg_output_fldr_path\u001b[0m \u001b[0;34m=\u001b[0m \u001b[0mos\u001b[0m\u001b[0;34m.\u001b[0m\u001b[0mpath\u001b[0m\u001b[0;34m.\u001b[0m\u001b[0mjoin\u001b[0m\u001b[0;34m(\u001b[0m\u001b[0;34m'..'\u001b[0m\u001b[0;34m,\u001b[0m\u001b[0;34m'data'\u001b[0m\u001b[0;34m,\u001b[0m\u001b[0;34m'processed'\u001b[0m\u001b[0;34m,\u001b[0m\u001b[0;34m'cas_square'\u001b[0m\u001b[0;34m)\u001b[0m\u001b[0;34m\u001b[0m\u001b[0;34m\u001b[0m\u001b[0m\n",
      "\u001b[0;31mNameError\u001b[0m: name 'os' is not defined"
     ]
    }
   ],
   "source": [
    "# set folder paths\n",
    "orig_anno_fldr_path = os.path.join(\"..\",\"data\",\"raw\")\n",
    "img_src_fldr_path = os.path.join('..','data','raw')\n",
    "img_output_fldr_path = os.path.join('..','data','output')"
   ]
  },
  {
   "cell_type": "markdown",
   "metadata": {},
   "source": [
    "# Functions"
   ]
  },
  {
   "cell_type": "code",
   "execution_count": 2,
   "metadata": {},
   "outputs": [],
   "source": [
    "def calc_resize_with_apect(size, max_dimension):\n",
    "    \"\"\"\n",
    "    calculate new image size that preserves the aspect ratio but does not exceed the max dimension\n",
    "    size: tuple, current image size\n",
    "    max_dimension: int, dimension not to exceed\n",
    "    \"\"\"\n",
    "    w = size[0]\n",
    "    h = size[1]\n",
    "\n",
    "    # if min(size) > min_dimension:\n",
    "    \n",
    "    max_orig_dim = max(size)\n",
    "    \n",
    "    new_w = (w / max_orig_dim) * max_dimension\n",
    "    new_h = (h / max_orig_dim) * max_dimension\n",
    "        \n",
    "    new_size = (int(new_w), int(new_h))\n",
    "\n",
    "    return new_size\n",
    "\n",
    "\n",
    "def resize_image(pil_image, max_dimension, return_ratio=False):\n",
    "    \"\"\"\n",
    "    resize a pil image to have the maximum dimension given on oneside while preserving aspect ratio\n",
    "    pil_image: PIL.Image, image to resize\n",
    "    max_dimension: int, max size\n",
    "    return_ratio: bool, return the original image size divided by new image size\n",
    "    \n",
    "    \"\"\"\n",
    "    \n",
    "    orig_size = pil_image.size\n",
    "    new_size = calc_resize_with_apect(orig_size, max_dimension)\n",
    "    pil_image = pil_image.resize(new_size, resample = Image.ANTIALIAS)\n",
    "    \n",
    "    if return_ratio:\n",
    "        resized_ratio = orig_size[0] / new_size[0]\n",
    "        return pil_image, resized_ratio\n",
    "    \n",
    "    return pil_image"
   ]
  },
  {
   "cell_type": "code",
   "execution_count": 3,
   "metadata": {},
   "outputs": [],
   "source": [
    "def pad_image_to_square(pil_image, constant_values=0):\n",
    "        \"\"\"\n",
    "        convert a rectangular image to a square by padding the smaller side with a constant value\n",
    "        pil_image: PIL.Image, \n",
    "        constant_values: int, 0-255 value to pad image with \n",
    "        \"\"\"\n",
    "        \n",
    "        im_array = np.array(pil_image)\n",
    "        \n",
    "        h = im_array.shape[0]\n",
    "        w = im_array.shape[1]\n",
    "\n",
    "        h_padding = max(0, (w - h))\n",
    "        w_padding = max(0, (h - w))\n",
    "\n",
    "        h_padding_bottom = np.ceil(h_padding).astype(int)\n",
    "        w_padding_bottom = np.ceil(w_padding).astype(int)\n",
    "\n",
    "        paddings = np.array([[0, h_padding_bottom],\n",
    "                                [0, w_padding_bottom],\n",
    "                                [0,0]])\n",
    "\n",
    "        im_array = np.pad(im_array, paddings, constant_values=constant_values)\n",
    "\n",
    "        return Image.fromarray(im_array)"
   ]
  },
  {
   "cell_type": "code",
   "execution_count": 28,
   "metadata": {},
   "outputs": [],
   "source": [
    "def resize_pad_and_save_image(input_fpath, img_output_fldr_path, max_dimension=1024):\n",
    "    \n",
    "    im = Image.open(input_fpath)\n",
    "    # this paramater can be returned by the resize image function, \n",
    "    # in order to also scale the annotations\n",
    "    resized_ratio = None\n",
    "    im, resized_ratio = resize_image(im, max_dimension, return_ratio=True)\n",
    "    im_s = pad_image_to_square(im)\n",
    "    # save resized image\n",
    "    fname = os.path.basename(input_fpath)\n",
    "    output_fpath = os.path.join(img_output_fldr_path, fname)\n",
    "    im_s.save(output_fpath)\n",
    "\n",
    "    if resized_ratio:\n",
    "        return resized_ratio"
   ]
  },
  {
   "cell_type": "code",
   "execution_count": 30,
   "metadata": {},
   "outputs": [],
   "source": [
    "\n",
    "def process_images_and_annotations(img_src_fldr_path, img_output_fldr_path, orig_anno_dict, split='train', max_img_dimension=1024):\n",
    "    \n",
    "    missing_files = []\n",
    "    ratios_dict = {}\n",
    "    new_annotations = []\n",
    "\n",
    "    #make sure output folder exists\n",
    "    img_output_fldr_path = os.path.join(img_output_fldr_path, split)\n",
    "    if not os.path.exists(img_output_fldr_path):\n",
    "        os.makedirs(img_output_fldr_path)\n",
    "        print('created directory: {}'.format(img_output_fldr_path))\n",
    "\n",
    "    # Process Images\n",
    "    print('outputting images to: {}'.format(img_output_fldr_path))\n",
    "    for record in orig_anno_dict['images']:\n",
    "\n",
    "        fname = record['file_name']\n",
    "        src_path = os.path.join(img_src_fldr_path, fname)\n",
    "\n",
    "        if os.path.exists(src_path):\n",
    "            resized_ratio = resize_pad_and_save_image(src_path, img_output_fldr_path, max_dimension=max_img_dimension)\n",
    "            # in case all pictures are not the same size, keep a dict of image id and resized ratios, to resize the annotations later\n",
    "            ratios_dict[record['id']] = resized_ratio\n",
    "\n",
    "        else:\n",
    "            missing_files.append(record['id'])\n",
    "            print('no src file: ', record['file_name'])\n",
    "\n",
    "    # Process annotations\n",
    "    for orig_anno in orig_anno_dict['annotations']:\n",
    "\n",
    "        if orig_anno['image_id'] in missing_files:\n",
    "            continue\n",
    "\n",
    "        image_id = orig_anno['image_id']\n",
    "        new_anno = orig_anno\n",
    "\n",
    "        #scale segmentation\n",
    "        try:\n",
    "            resize_ratio = ratios_dict[image_id]\n",
    "        except:\n",
    "            print(\"annotation was skipped for image_id: {}\".format(image_id))\n",
    "            next\n",
    "\n",
    "        scaled_segmentations = []\n",
    "        for seg in orig_anno['segmentation']:\n",
    "            # remove segments with less than 6 points as this can't make a mask\n",
    "            if len(seg) < 6:\n",
    "                print('less than 6 points in segment for annotation: ', orig_anno['id'], ' image_id: ', image_id)\n",
    "                continue\n",
    "\n",
    "            scaled_segmentation = np.array(seg) / resize_ratio\n",
    "            scaled_segmentation = np.round(scaled_segmentation, decimals=1).tolist()\n",
    "            scaled_segmentations.append(scaled_segmentation)\n",
    "\n",
    "        new_anno['segmentation'] = scaled_segmentations\n",
    "        # scale bounding box\n",
    "        new_anno['bbox'] = [np.round(pnt/resize_ratio,1) for pnt in orig_anno['bbox']]\n",
    "        # scale area\n",
    "        new_anno['area'] = np.round((orig_anno['area']/resize_ratio**2))\n",
    "        #images_sizes\n",
    "        new_anno['width'] = max_img_dimension\n",
    "        new_anno['height'] = max_img_dimension\n",
    "\n",
    "        new_annotations.append(new_anno)\n",
    "\n",
    "    new_image_records = []\n",
    "\n",
    "    for img_record in orig_anno_dict['images']:\n",
    "        if img_record['id'] in missing_files:\n",
    "            continue\n",
    "        img_record['path'] = os.path.join(img_output_fldr_path, img_record['file_name'])\n",
    "        img_record['width'] = max_img_dimension\n",
    "        img_record['height'] = max_img_dimension\n",
    "        new_image_records.append(img_record)\n",
    "\n",
    "\n",
    "    ## save new annotation json file\n",
    "    new_dict = {}\n",
    "    new_dict['categories'] = orig_anno_dict['categories']\n",
    "    new_dict['annotations'] = new_annotations\n",
    "    new_dict['images'] = new_image_records\n",
    "\n",
    "    output_fpath = os.path.join(img_output_fldr_path,split+'.json')\n",
    "    with open(output_fpath,'w') as f:\n",
    "        json.dump(new_dict,f)\n",
    "\n",
    "    return new_dict"
   ]
  },
  {
   "cell_type": "code",
   "execution_count": 31,
   "metadata": {},
   "outputs": [],
   "source": [
    "def load_annotations_dict(orig_anno_fldr_path, split='train'):\n",
    "    \n",
    "    with open(fpath, 'r') as f:\n",
    "        orig_anno_dict = json.load(f)\n",
    "        \n",
    "    return orig_anno_dict"
   ]
  },
  {
   "cell_type": "markdown",
   "metadata": {},
   "source": [
    "# Main"
   ]
  },
  {
   "cell_type": "code",
   "execution_count": 32,
   "metadata": {},
   "outputs": [
    {
     "name": "stdout",
     "output_type": "stream",
     "text": [
      "outputting images to: ../data/processed/cas_square/train\n",
      "no src file:  CAS0087567.jpg\n",
      "no src file:  CAS0087564.jpg\n"
     ]
    }
   ],
   "source": [
    "# load original annotations\n",
    "split='train'\n",
    "orig_anno_dict = load_annotations_dict(orig_anno_fldr_path, split=split)\n",
    "# process images and annotatons\n",
    "new_anno_dict_train = process_images_and_annotations(img_src_fldr_path, \n",
    "                               img_output_fldr_path, \n",
    "                               orig_anno_dict, \n",
    "                               split=split, \n",
    "                               max_img_dimension=1024)"
   ]
  },
  {
   "cell_type": "code",
   "execution_count": 33,
   "metadata": {},
   "outputs": [
    {
     "name": "stdout",
     "output_type": "stream",
     "text": [
      "outputting images to: ../data/processed/cas_square/test\n",
      "no src file:  CAS0087582.jpg\n",
      "less than 6 points in segment for annotation:  38842  image_id:  691\n"
     ]
    }
   ],
   "source": [
    "# load original annotations\n",
    "split='test'\n",
    "orig_anno_dict = load_annotations_dict(orig_anno_fldr_path, split=split)\n",
    "# process images and annotatons\n",
    "new_anno_dict_test = process_images_and_annotations(img_src_fldr_path, \n",
    "                               img_output_fldr_path, \n",
    "                               orig_anno_dict, \n",
    "                               split=split, \n",
    "                               max_img_dimension=1024)"
   ]
  },
  {
   "cell_type": "markdown",
   "metadata": {},
   "source": [
    "\n",
    "### check output"
   ]
  },
  {
   "cell_type": "code",
   "execution_count": 36,
   "metadata": {},
   "outputs": [],
   "source": [
    "img_rec = new_anno_dict_train['images'][0]\n",
    "img = plt.imread(img_rec['path'])"
   ]
  },
  {
   "cell_type": "code",
   "execution_count": 37,
   "metadata": {},
   "outputs": [
    {
     "data": {
      "image/png": "[encoded data removed]",
      "text/plain": [
       "<Figure size 432x288 with 1 Axes>"
      ]
     },
     "metadata": {
      "needs_background": "light"
     },
     "output_type": "display_data"
    }
   ],
   "source": [
    "plt.imshow(img)\n",
    "plt.show()"
   ]
  }
 ],
 "metadata": {
  "kernelspec": {
   "display_name": "Python 3",
   "language": "python",
   "name": "python3"
  },
  "language_info": {
   "codemirror_mode": {
    "name": "ipython",
    "version": 3
   },
   "file_extension": ".py",
   "mimetype": "text/x-python",
   "name": "python",
   "nbconvert_exporter": "python",
   "pygments_lexer": "ipython3",
   "version": "3.7.3"
  }
 },
 "nbformat": 4,
 "nbformat_minor": 4
}
